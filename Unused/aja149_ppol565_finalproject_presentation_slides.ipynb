{
 "cells": [
  {
   "cell_type": "markdown",
   "metadata": {
    "slideshow": {
     "slide_type": "skip"
    }
   },
   "source": [
    "# Alexander Adams\n",
    "# PPOL565 Data Science 2: Applied Statistical Learning\n",
    "# Presentation Slides\n",
    "\n",
    "To convert this notebook to a slideshow, I installed two extensions: RISE (https://rise.readthedocs.io/en/stable/), which allows a Jupyter Notebook to be presented as a slideshow, and hide_code (https://github.com/kirbs-/hide_code), which provides the option to hide code, outputs, or prompts for a given cell/slide."
   ]
  },
  {
   "cell_type": "code",
   "execution_count": 1,
   "metadata": {
    "slideshow": {
     "slide_type": "skip"
    }
   },
   "outputs": [],
   "source": [
    "#Data Management/Investigation\n",
    "import pandas as pd\n",
    "pd.set_option('max_columns', None)\n",
    "pd.set_option('max_rows', None)\n",
    "import numpy as np\n",
    "import missingno as miss\n",
    "from plotnine import *\n",
    "import matplotlib.pyplot as plt\n",
    "import warnings\n",
    "warnings.filterwarnings(\"ignore\")\n",
    "import seaborn as sn\n",
    "import matplotlib.pyplot as plt"
   ]
  },
  {
   "cell_type": "markdown",
   "metadata": {
    "slideshow": {
     "slide_type": "slide"
    }
   },
   "source": [
    "# \"Keep Your Government Hands Off My Medicare!\": Analyzing Factors Which Predict Support for Publicly-Funded Healthcare Among American Voters\n",
    "\n",
    "## Alexander Adams\n",
    "\n",
    "### PPOL565 Data Science 2: Applied Statistical Learning\n",
    "\n",
    "### May 3, 2021"
   ]
  },
  {
   "cell_type": "markdown",
   "metadata": {
    "slideshow": {
     "slide_type": "slide"
    }
   },
   "source": [
    "# I. Research Question and Background"
   ]
  },
  {
   "cell_type": "markdown",
   "metadata": {
    "slideshow": {
     "slide_type": "subslide"
    }
   },
   "source": [
    "## Research Question\n",
    "\n",
    "#### One of the most widely-debated issues in American politics is the federal government's role in providing healthcare. Liberals tend to favor greater government involvement, while conservatives believe the responsibility should lie more with the private sector.\n",
    "\n",
    "#### Activists, particularly on the left, face the challenge of selling their policy position to voters. This analysis aims to assess which factors (demographic or attitudinal) are associated with support for government involvement in providing healthcare."
   ]
  },
  {
   "cell_type": "markdown",
   "metadata": {
    "slideshow": {
     "slide_type": "subslide"
    }
   },
   "source": [
    "## Background\n",
    "\n"
   ]
  },
  {
   "cell_type": "markdown",
   "metadata": {
    "slideshow": {
     "slide_type": "slide"
    }
   },
   "source": [
    "# II. Data Source and Relevant Variables"
   ]
  },
  {
   "cell_type": "markdown",
   "metadata": {
    "slideshow": {
     "slide_type": "subslide"
    }
   },
   "source": [
    "#### The data for this project comes from the 2018 National Survey of Health Attitudes (NSHA), conducted by the RAND corporation, accessible through the Inter-University Consortium for Political and Social Research (ICPSR)."
   ]
  },
  {
   "cell_type": "markdown",
   "metadata": {
    "slideshow": {
     "slide_type": "subslide"
    }
   },
   "source": [
    "#### Dependent Variable: Q16-4\n",
    "\n",
    "Question Text: Indicate who you think should play a bigger role in providing healthcare services, the government or the private sector (businesses and nonprofits)?\n",
    "\n",
    "Responses: 0-100 \n",
    "\n",
    "0 = The government should be solely responsible for providing health care\n",
    "\n",
    "100 = The private sector should be solely responsible for providing health care\n",
    "\n",
    "Any value in between indicates a mixture of the two"
   ]
  },
  {
   "cell_type": "markdown",
   "metadata": {
    "slideshow": {
     "slide_type": "subslide"
    }
   },
   "source": [
    "#### Feature Variables of Interest: Q11A/B\n",
    "\n",
    "Q11A Text: Which statement is closer to your views?\n",
    "\n",
    "The biggest reason people in America become unhealthy is because they make poor choices\n",
    "that affect their health.\n",
    "\n",
    "OR\n",
    "\n",
    "The biggest reason people in America become unhealthy is because things outside of their\n",
    "control affect their health.\n",
    "\n",
    "_______________________\n",
    "Q11B Text: Which of the following is the biggest reason that people in America become\n",
    "unhealthy?\n",
    "\n",
    "Personal Factors OR Environmental Factors"
   ]
  },
  {
   "cell_type": "markdown",
   "metadata": {
    "slideshow": {
     "slide_type": "subslide"
    }
   },
   "source": [
    "#### Feature Variables of Interest: Q15A\n",
    "\n",
    "Q15A Text: Which 3 of the following factors do you think are \n",
    "most responsible for the life expectancy gap between high-income and low-income people?\n",
    "\n",
    "| Possible Factors                                |                                              |\n",
    "|-------------------------------------------------|----------------------------------------------|\n",
    "|           Access to a  Good Education           |            Access to  Health Care            |\n",
    "|           Access to  Health Insurance           |            Community  Environment            |\n",
    "|                  Discrimination                 | Economic Resources/ How much money they have |\n",
    "|     Genetics (someone's  biological makeup)     |         Health Information  they have        |\n",
    "|                       Luck                      |        Personal Choices  and Behavior        |\n",
    "| Treatment by Society  of those with Low Incomes |              Other (Unspecified)             |"
   ]
  },
  {
   "cell_type": "markdown",
   "metadata": {
    "slideshow": {
     "slide_type": "slide"
    }
   },
   "source": [
    "# III. Methods"
   ]
  },
  {
   "cell_type": "markdown",
   "metadata": {
    "slideshow": {
     "slide_type": "subslide"
    }
   },
   "source": []
  },
  {
   "cell_type": "markdown",
   "metadata": {
    "slideshow": {
     "slide_type": "slide"
    }
   },
   "source": [
    "# IV. Results and Performance"
   ]
  },
  {
   "cell_type": "markdown",
   "metadata": {
    "slideshow": {
     "slide_type": "subslide"
    }
   },
   "source": [
    "#### * Analysis is unfinished!\n",
    "\n",
    "#### * Already ran: LASSO regression with  $\\alpha$ of 0.5\n",
    "\n",
    "#### * To be run: Decision Tree Regressor, Random Forest Regressor, LASSO with other values of $\\alpha$\n",
    "\n"
   ]
  },
  {
   "cell_type": "markdown",
   "metadata": {
    "slideshow": {
     "slide_type": "subslide"
    }
   },
   "source": [
    "#### * LASSO model \n",
    "\n",
    "| Variable              |   Lasso Coef |\n",
    "|:----------------------|-------------:|\n",
    "| Q15A_AHC              |   -4.53725   |\n",
    "| Q15A_AHI              |   -3.51266   |\n",
    "| Q11                   |   -2.86841   |\n",
    "| HHIncome              |    0.879599  |\n",
    "| Q15A_L                |    0.923623  |\n",
    "| Q15A_PCB              |    3.31662   |"
   ]
  },
  {
   "cell_type": "markdown",
   "metadata": {
    "slideshow": {
     "slide_type": "slide"
    }
   },
   "source": [
    "# V. Conclusions"
   ]
  },
  {
   "cell_type": "code",
   "execution_count": null,
   "metadata": {
    "slideshow": {
     "slide_type": "subslide"
    }
   },
   "outputs": [],
   "source": []
  }
 ],
 "metadata": {
  "celltoolbar": "Slideshow",
  "kernelspec": {
   "display_name": "Python 3",
   "language": "python",
   "name": "python3"
  },
  "language_info": {
   "codemirror_mode": {
    "name": "ipython",
    "version": 3
   },
   "file_extension": ".py",
   "mimetype": "text/x-python",
   "name": "python",
   "nbconvert_exporter": "python",
   "pygments_lexer": "ipython3",
   "version": "3.8.3"
  }
 },
 "nbformat": 4,
 "nbformat_minor": 4
}
